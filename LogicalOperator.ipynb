{
 "cells": [
  {
   "cell_type": "code",
   "execution_count": 2,
   "id": "fd109122-d048-4548-ba15-b2ba47800f3d",
   "metadata": {},
   "outputs": [
    {
     "name": "stdout",
     "output_type": "stream",
     "text": [
      "False\n",
      "True\n"
     ]
    }
   ],
   "source": [
    "                                    #Logical Operator\n",
    "# and Operator\n",
    "x = 45\n",
    "print(x > 40 and x < 40)\n",
    "print( x == 45 and x == 45)"
   ]
  },
  {
   "cell_type": "code",
   "execution_count": 3,
   "id": "eb40b12b-2a12-47c3-a997-84fe3d3364d2",
   "metadata": {},
   "outputs": [
    {
     "name": "stdout",
     "output_type": "stream",
     "text": [
      "False\n"
     ]
    }
   ],
   "source": [
    "#Or operator\n",
    "y = 56\n",
    "print(y > 56 or y < 54)\n",
    "print(y > 56 or y < 54)"
   ]
  },
  {
   "cell_type": "code",
   "execution_count": null,
   "id": "76c86fef-9fda-4b59-b3c0-8e2ef6854196",
   "metadata": {},
   "outputs": [],
   "source": []
  }
 ],
 "metadata": {
  "kernelspec": {
   "display_name": "Python 3 (ipykernel)",
   "language": "python",
   "name": "python3"
  },
  "language_info": {
   "codemirror_mode": {
    "name": "ipython",
    "version": 3
   },
   "file_extension": ".py",
   "mimetype": "text/x-python",
   "name": "python",
   "nbconvert_exporter": "python",
   "pygments_lexer": "ipython3",
   "version": "3.12.6"
  }
 },
 "nbformat": 4,
 "nbformat_minor": 5
}
