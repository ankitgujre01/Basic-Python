{
 "cells": [
  {
   "cell_type": "code",
   "execution_count": 1,
   "id": "5696ed0e-1093-4705-b4ee-52eb0f68718d",
   "metadata": {},
   "outputs": [
    {
     "name": "stdin",
     "output_type": "stream",
     "text": [
      "Enter Number 1: 12\n",
      "Enter Number 2: 56\n",
      "Enter Number 3: 35\n"
     ]
    },
    {
     "name": "stdout",
     "output_type": "stream",
     "text": [
      "[12, 56, 35]\n"
     ]
    }
   ],
   "source": [
    "# Example- \n",
    "'''\n",
    "list = [1,2,3,4,5,6,7,8,9] (Homogeneous)\n",
    "se_details = [\"Ankit\", 22, \"Bhopal\", \"marks\", [50,60,78,85]]\n",
    "'''\n",
    "#dynamic ex\n",
    "num1 = int(input(\"Enter Number 1:\"))\n",
    "num2 = int(input(\"Enter Number 2:\"))\n",
    "num3 = int(input(\"Enter Number 3:\"))\n",
    "\n",
    "lis = [num1, num2, num3]\n",
    "print(lis)"
   ]
  },
  {
   "cell_type": "code",
   "execution_count": 2,
   "id": "00635775-ff97-4c7f-9131-184f61074c46",
   "metadata": {},
   "outputs": [
    {
     "name": "stdout",
     "output_type": "stream",
     "text": [
      "['Ankit', 'class 12th', 'Science', 'Bhopal', 24]\n"
     ]
    }
   ],
   "source": [
    "#Static ex.\n",
    "student_details = [\"Ankit\", \"class 12th\", \"Science\", \"Bhopal\", 24]\n",
    "print(student_details)"
   ]
  },
  {
   "cell_type": "code",
   "execution_count": null,
   "id": "8fad7fff-d307-44b6-a032-9ce21c23595b",
   "metadata": {},
   "outputs": [],
   "source": []
  }
 ],
 "metadata": {
  "kernelspec": {
   "display_name": "Python 3 (ipykernel)",
   "language": "python",
   "name": "python3"
  },
  "language_info": {
   "codemirror_mode": {
    "name": "ipython",
    "version": 3
   },
   "file_extension": ".py",
   "mimetype": "text/x-python",
   "name": "python",
   "nbconvert_exporter": "python",
   "pygments_lexer": "ipython3",
   "version": "3.12.6"
  }
 },
 "nbformat": 4,
 "nbformat_minor": 5
}
