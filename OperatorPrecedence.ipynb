{
 "cells": [
  {
   "cell_type": "code",
   "execution_count": 3,
   "id": "524dbeb6-3d47-4c7d-b5c6-d1eb26242e64",
   "metadata": {},
   "outputs": [
    {
     "name": "stdout",
     "output_type": "stream",
     "text": [
      "17.23076923076923\n",
      "17.23076923076923\n",
      "22.871794871794872\n"
     ]
    }
   ],
   "source": [
    "#Operator Precedence Which operator perform first\n",
    "\n",
    "a = 20\n",
    "b = 4\n",
    "c = 56\n",
    "d = 78\n",
    "\n",
    "x =(a+b)*c/d        #first addition second multiplication third division\n",
    "print(x)\n",
    "\n",
    "y = ((a+b)*c)/d\n",
    "print(y)\n",
    "\n",
    "z = a + (c*b)/d\n",
    "print(z)"
   ]
  },
  {
   "cell_type": "code",
   "execution_count": null,
   "id": "96bdcc12-f486-47e8-a8fd-b40844e53931",
   "metadata": {},
   "outputs": [],
   "source": []
  }
 ],
 "metadata": {
  "kernelspec": {
   "display_name": "Python 3 (ipykernel)",
   "language": "python",
   "name": "python3"
  },
  "language_info": {
   "codemirror_mode": {
    "name": "ipython",
    "version": 3
   },
   "file_extension": ".py",
   "mimetype": "text/x-python",
   "name": "python",
   "nbconvert_exporter": "python",
   "pygments_lexer": "ipython3",
   "version": "3.12.6"
  }
 },
 "nbformat": 4,
 "nbformat_minor": 5
}
