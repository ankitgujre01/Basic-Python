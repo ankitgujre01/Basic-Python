{
 "cells": [
  {
   "cell_type": "code",
   "execution_count": 5,
   "id": "29da4807-ac10-45b7-adb5-14bd922d2391",
   "metadata": {},
   "outputs": [
    {
     "name": "stdout",
     "output_type": "stream",
     "text": [
      "True\n",
      "False\n",
      "False\n",
      "True\n"
     ]
    }
   ],
   "source": [
    "#Membership Operator\n",
    "# in operator\n",
    "\n",
    "x = \"I am a python full stack developer\"\n",
    "print(\"python\" in x)\n",
    "print(\"Python\" in x)\n",
    "print(\"devel\" not in x)              #not in operator\n",
    "print(\"devel\" in x)\n"
   ]
  },
  {
   "cell_type": "code",
   "execution_count": null,
   "id": "d6e66cd1-e828-435e-ab79-b73d7d603152",
   "metadata": {},
   "outputs": [],
   "source": []
  }
 ],
 "metadata": {
  "kernelspec": {
   "display_name": "Python 3 (ipykernel)",
   "language": "python",
   "name": "python3"
  },
  "language_info": {
   "codemirror_mode": {
    "name": "ipython",
    "version": 3
   },
   "file_extension": ".py",
   "mimetype": "text/x-python",
   "name": "python",
   "nbconvert_exporter": "python",
   "pygments_lexer": "ipython3",
   "version": "3.12.6"
  }
 },
 "nbformat": 4,
 "nbformat_minor": 5
}
