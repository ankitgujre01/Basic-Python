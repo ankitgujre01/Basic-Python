{
 "cells": [
  {
   "cell_type": "code",
   "execution_count": 1,
   "id": "5ea712eb-4eb0-4c09-b332-8686469acc76",
   "metadata": {},
   "outputs": [
    {
     "name": "stdout",
     "output_type": "stream",
     "text": [
      "Answer : 83\n"
     ]
    }
   ],
   "source": [
    "                                           #Arithmetic Operators\n",
    "#Addition Operator\n",
    "a = 20\n",
    "b = 63\n",
    "c = a+b\n",
    "print(\"Answer :\", c)"
   ]
  },
  {
   "cell_type": "code",
   "execution_count": 2,
   "id": "8106c94e-0b32-4534-b10e-4df6bd4e7e87",
   "metadata": {},
   "outputs": [
    {
     "name": "stdout",
     "output_type": "stream",
     "text": [
      "Answer : 15\n"
     ]
    }
   ],
   "source": [
    "#Substration operator\n",
    "A = 20\n",
    "B = 5\n",
    "C = A - B\n",
    "print(\"Answer :\", C)"
   ]
  },
  {
   "cell_type": "code",
   "execution_count": 3,
   "id": "7a56e21b-1478-4cf8-bc6a-2cf20b84d3df",
   "metadata": {},
   "outputs": [
    {
     "name": "stdout",
     "output_type": "stream",
     "text": [
      "Answer =  6\n"
     ]
    }
   ],
   "source": [
    "#Multiplication Operator\n",
    "x = 2\n",
    "y = 3\n",
    "z = x * y\n",
    "print(\"Answer = \",z)"
   ]
  },
  {
   "cell_type": "code",
   "execution_count": 4,
   "id": "962e836a-ac07-4113-8078-d5985e21c7b3",
   "metadata": {},
   "outputs": [
    {
     "name": "stdout",
     "output_type": "stream",
     "text": [
      "Answer =  0.5\n"
     ]
    }
   ],
   "source": [
    "#Division Operator\n",
    "X = 3\n",
    "T = 6\n",
    "Y = X / T\n",
    "print(\"Answer = \", Y)"
   ]
  },
  {
   "cell_type": "code",
   "execution_count": 6,
   "id": "ee103ec2-3fb9-480b-aca2-976379e9b701",
   "metadata": {},
   "outputs": [
    {
     "name": "stdout",
     "output_type": "stream",
     "text": [
      "Answer =  55\n",
      "Answer =  7\n"
     ]
    }
   ],
   "source": [
    "#Modulud Operator\n",
    "x = 55\n",
    "Y = 66\n",
    "z = x % Y\n",
    "print(\"Answer = \",z)\n",
    "e = 55\n",
    "f = 24\n",
    "g = e % f\n",
    "print(\"Answer = \",g)"
   ]
  },
  {
   "cell_type": "code",
   "execution_count": 8,
   "id": "34fc3d20-07f5-4b13-a66b-c98fb52f8b2c",
   "metadata": {},
   "outputs": [
    {
     "name": "stdout",
     "output_type": "stream",
     "text": [
      "0\n"
     ]
    }
   ],
   "source": [
    "p = 5 // 65\n",
    "print(p)"
   ]
  },
  {
   "cell_type": "code",
   "execution_count": null,
   "id": "c38be399-7944-4465-bf98-280e5aa2963d",
   "metadata": {},
   "outputs": [],
   "source": []
  }
 ],
 "metadata": {
  "kernelspec": {
   "display_name": "Python 3 (ipykernel)",
   "language": "python",
   "name": "python3"
  },
  "language_info": {
   "codemirror_mode": {
    "name": "ipython",
    "version": 3
   },
   "file_extension": ".py",
   "mimetype": "text/x-python",
   "name": "python",
   "nbconvert_exporter": "python",
   "pygments_lexer": "ipython3",
   "version": "3.12.6"
  }
 },
 "nbformat": 4,
 "nbformat_minor": 5
}
