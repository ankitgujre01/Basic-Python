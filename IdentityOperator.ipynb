{
 "cells": [
  {
   "cell_type": "code",
   "execution_count": 4,
   "id": "05eee25e-b7ac-40b6-9d73-3a60d5f2df50",
   "metadata": {},
   "outputs": [
    {
     "name": "stdout",
     "output_type": "stream",
     "text": [
      "False\n",
      "True\n",
      "False\n",
      "True\n"
     ]
    }
   ],
   "source": [
    "                                       #Identity Operator\n",
    "#is Operator\n",
    "x = [\"Apple\", \"Mango\"]\n",
    "y = [\"Apple\", \"Mango\"]\n",
    "z = x\n",
    "print(x is y)\n",
    "print(x is z)\n",
    "print( z is not x)\n",
    "print(z is x)"
   ]
  },
  {
   "cell_type": "code",
   "execution_count": null,
   "id": "eecb54e7-5248-4494-88ec-52c242c5567b",
   "metadata": {},
   "outputs": [],
   "source": []
  }
 ],
 "metadata": {
  "kernelspec": {
   "display_name": "Python 3 (ipykernel)",
   "language": "python",
   "name": "python3"
  },
  "language_info": {
   "codemirror_mode": {
    "name": "ipython",
    "version": 3
   },
   "file_extension": ".py",
   "mimetype": "text/x-python",
   "name": "python",
   "nbconvert_exporter": "python",
   "pygments_lexer": "ipython3",
   "version": "3.12.6"
  }
 },
 "nbformat": 4,
 "nbformat_minor": 5
}
